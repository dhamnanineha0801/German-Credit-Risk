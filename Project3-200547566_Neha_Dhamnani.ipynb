{
 "cells": [
  {
   "cell_type": "markdown",
   "id": "37fe1586",
   "metadata": {},
   "source": [
    "## Project Description\n",
    "\n",
    "Here we have the data that classifies people described by a set of attributes as good or bad credit risks. In this dataset, each entry represents a person who takes a credit by a bank. The data contains 1000 data points.\n",
    "\n",
    "The attributes of the data are as follows:\n",
    "\n",
    "- **Age-** (numeric)\n",
    "\n",
    "- **Sex-** (text: male, female)\n",
    "\n",
    "- **Job-** (numeric: 0 - unskilled and non-resident, 1 - unskilled and resident, 2 - skilled, 3 - highly skilled)\n",
    "\n",
    "- **Housing-** (text: own, rent, or free)\n",
    "\n",
    "- **Saving accounts-** (text - little, moderate, quite rich, rich)\n",
    "\n",
    "- **Checking account-** (numeric, in DM - Deutsch Mark)\n",
    "\n",
    "- **Credit amount-** (numeric, in DM)\n",
    "\n",
    "- **Duration-** (numeric, in month)\n",
    "\n",
    "- **Purpose-** (text: car, furniture/equipment, radio/TV, domestic appliances, repairs, education, business, vacation/others)\n",
    "\n",
    "- **Risk-** (Target value - Good or Bad Risk)\n",
    "\n",
    "**Goal-** To cluster the customers and classify whether an applicant is considered a Good or Bad credit risk"
   ]
  },
  {
   "cell_type": "markdown",
   "id": "c1d84d79",
   "metadata": {},
   "source": [
    "### EDA\n",
    "\n",
    "In this section we will explore the data and visulize the features"
   ]
  },
  {
   "cell_type": "code",
   "execution_count": 2,
   "id": "d218522a",
   "metadata": {},
   "outputs": [
    {
     "data": {
      "text/html": [
       "<div>\n",
       "<style scoped>\n",
       "    .dataframe tbody tr th:only-of-type {\n",
       "        vertical-align: middle;\n",
       "    }\n",
       "\n",
       "    .dataframe tbody tr th {\n",
       "        vertical-align: top;\n",
       "    }\n",
       "\n",
       "    .dataframe thead th {\n",
       "        text-align: right;\n",
       "    }\n",
       "</style>\n",
       "<table border=\"1\" class=\"dataframe\">\n",
       "  <thead>\n",
       "    <tr style=\"text-align: right;\">\n",
       "      <th></th>\n",
       "      <th>Age</th>\n",
       "      <th>Sex</th>\n",
       "      <th>Job</th>\n",
       "      <th>Housing</th>\n",
       "      <th>Saving accounts</th>\n",
       "      <th>Checking account</th>\n",
       "      <th>Credit amount</th>\n",
       "      <th>Duration</th>\n",
       "      <th>Purpose</th>\n",
       "      <th>Risk</th>\n",
       "    </tr>\n",
       "  </thead>\n",
       "  <tbody>\n",
       "    <tr>\n",
       "      <th>0</th>\n",
       "      <td>67</td>\n",
       "      <td>male</td>\n",
       "      <td>2</td>\n",
       "      <td>own</td>\n",
       "      <td>NaN</td>\n",
       "      <td>little</td>\n",
       "      <td>1169</td>\n",
       "      <td>6</td>\n",
       "      <td>radio/TV</td>\n",
       "      <td>good</td>\n",
       "    </tr>\n",
       "    <tr>\n",
       "      <th>1</th>\n",
       "      <td>22</td>\n",
       "      <td>female</td>\n",
       "      <td>2</td>\n",
       "      <td>own</td>\n",
       "      <td>little</td>\n",
       "      <td>moderate</td>\n",
       "      <td>5951</td>\n",
       "      <td>48</td>\n",
       "      <td>radio/TV</td>\n",
       "      <td>bad</td>\n",
       "    </tr>\n",
       "    <tr>\n",
       "      <th>2</th>\n",
       "      <td>49</td>\n",
       "      <td>male</td>\n",
       "      <td>1</td>\n",
       "      <td>own</td>\n",
       "      <td>little</td>\n",
       "      <td>NaN</td>\n",
       "      <td>2096</td>\n",
       "      <td>12</td>\n",
       "      <td>education</td>\n",
       "      <td>good</td>\n",
       "    </tr>\n",
       "    <tr>\n",
       "      <th>3</th>\n",
       "      <td>45</td>\n",
       "      <td>male</td>\n",
       "      <td>2</td>\n",
       "      <td>free</td>\n",
       "      <td>little</td>\n",
       "      <td>little</td>\n",
       "      <td>7882</td>\n",
       "      <td>42</td>\n",
       "      <td>furniture/equipment</td>\n",
       "      <td>good</td>\n",
       "    </tr>\n",
       "    <tr>\n",
       "      <th>4</th>\n",
       "      <td>53</td>\n",
       "      <td>male</td>\n",
       "      <td>2</td>\n",
       "      <td>free</td>\n",
       "      <td>little</td>\n",
       "      <td>little</td>\n",
       "      <td>4870</td>\n",
       "      <td>24</td>\n",
       "      <td>car</td>\n",
       "      <td>bad</td>\n",
       "    </tr>\n",
       "  </tbody>\n",
       "</table>\n",
       "</div>"
      ],
      "text/plain": [
       "   Age     Sex  Job Housing Saving accounts Checking account  Credit amount  \\\n",
       "0   67    male    2     own             NaN           little           1169   \n",
       "1   22  female    2     own          little         moderate           5951   \n",
       "2   49    male    1     own          little              NaN           2096   \n",
       "3   45    male    2    free          little           little           7882   \n",
       "4   53    male    2    free          little           little           4870   \n",
       "\n",
       "   Duration              Purpose  Risk  \n",
       "0         6             radio/TV  good  \n",
       "1        48             radio/TV   bad  \n",
       "2        12            education  good  \n",
       "3        42  furniture/equipment  good  \n",
       "4        24                  car   bad  "
      ]
     },
     "execution_count": 2,
     "metadata": {},
     "output_type": "execute_result"
    }
   ],
   "source": [
    "import matplotlib.pyplot as plt\n",
    "import numpy as np\n",
    "import pandas as pd\n",
    "import seaborn as sns\n",
    "\n",
    "data = pd.read_csv('german_credit_data.csv')\n",
    "data.head()"
   ]
  },
  {
   "cell_type": "code",
   "execution_count": 3,
   "id": "41534f53",
   "metadata": {},
   "outputs": [
    {
     "name": "stdout",
     "output_type": "stream",
     "text": [
      "<class 'pandas.core.frame.DataFrame'>\n",
      "RangeIndex: 1000 entries, 0 to 999\n",
      "Data columns (total 10 columns):\n",
      " #   Column            Non-Null Count  Dtype \n",
      "---  ------            --------------  ----- \n",
      " 0   Age               1000 non-null   int64 \n",
      " 1   Sex               1000 non-null   object\n",
      " 2   Job               1000 non-null   int64 \n",
      " 3   Housing           1000 non-null   object\n",
      " 4   Saving accounts   817 non-null    object\n",
      " 5   Checking account  606 non-null    object\n",
      " 6   Credit amount     1000 non-null   int64 \n",
      " 7   Duration          1000 non-null   int64 \n",
      " 8   Purpose           1000 non-null   object\n",
      " 9   Risk              1000 non-null   object\n",
      "dtypes: int64(4), object(6)\n",
      "memory usage: 78.2+ KB\n"
     ]
    }
   ],
   "source": [
    "data.info()"
   ]
  },
  {
   "cell_type": "markdown",
   "id": "1a2912f9",
   "metadata": {},
   "source": [
    "- The dataset contains 10 columns and 1000 rows (4 features are int64, and 6 features are object datatypes)\n",
    "\n",
    "- Checking and Saving accounts are the only two columns with missing values"
   ]
  },
  {
   "cell_type": "code",
   "execution_count": 4,
   "id": "31b1ef5b",
   "metadata": {},
   "outputs": [
    {
     "data": {
      "text/html": [
       "<div>\n",
       "<style scoped>\n",
       "    .dataframe tbody tr th:only-of-type {\n",
       "        vertical-align: middle;\n",
       "    }\n",
       "\n",
       "    .dataframe tbody tr th {\n",
       "        vertical-align: top;\n",
       "    }\n",
       "\n",
       "    .dataframe thead th {\n",
       "        text-align: right;\n",
       "    }\n",
       "</style>\n",
       "<table border=\"1\" class=\"dataframe\">\n",
       "  <thead>\n",
       "    <tr style=\"text-align: right;\">\n",
       "      <th></th>\n",
       "      <th>Age</th>\n",
       "      <th>Job</th>\n",
       "      <th>Credit amount</th>\n",
       "      <th>Duration</th>\n",
       "    </tr>\n",
       "  </thead>\n",
       "  <tbody>\n",
       "    <tr>\n",
       "      <th>count</th>\n",
       "      <td>1000.000000</td>\n",
       "      <td>1000.000000</td>\n",
       "      <td>1000.000000</td>\n",
       "      <td>1000.000000</td>\n",
       "    </tr>\n",
       "    <tr>\n",
       "      <th>mean</th>\n",
       "      <td>35.546000</td>\n",
       "      <td>1.904000</td>\n",
       "      <td>3271.258000</td>\n",
       "      <td>20.903000</td>\n",
       "    </tr>\n",
       "    <tr>\n",
       "      <th>std</th>\n",
       "      <td>11.375469</td>\n",
       "      <td>0.653614</td>\n",
       "      <td>2822.736876</td>\n",
       "      <td>12.058814</td>\n",
       "    </tr>\n",
       "    <tr>\n",
       "      <th>min</th>\n",
       "      <td>19.000000</td>\n",
       "      <td>0.000000</td>\n",
       "      <td>250.000000</td>\n",
       "      <td>4.000000</td>\n",
       "    </tr>\n",
       "    <tr>\n",
       "      <th>25%</th>\n",
       "      <td>27.000000</td>\n",
       "      <td>2.000000</td>\n",
       "      <td>1365.500000</td>\n",
       "      <td>12.000000</td>\n",
       "    </tr>\n",
       "    <tr>\n",
       "      <th>50%</th>\n",
       "      <td>33.000000</td>\n",
       "      <td>2.000000</td>\n",
       "      <td>2319.500000</td>\n",
       "      <td>18.000000</td>\n",
       "    </tr>\n",
       "    <tr>\n",
       "      <th>75%</th>\n",
       "      <td>42.000000</td>\n",
       "      <td>2.000000</td>\n",
       "      <td>3972.250000</td>\n",
       "      <td>24.000000</td>\n",
       "    </tr>\n",
       "    <tr>\n",
       "      <th>max</th>\n",
       "      <td>75.000000</td>\n",
       "      <td>3.000000</td>\n",
       "      <td>18424.000000</td>\n",
       "      <td>72.000000</td>\n",
       "    </tr>\n",
       "  </tbody>\n",
       "</table>\n",
       "</div>"
      ],
      "text/plain": [
       "               Age          Job  Credit amount     Duration\n",
       "count  1000.000000  1000.000000    1000.000000  1000.000000\n",
       "mean     35.546000     1.904000    3271.258000    20.903000\n",
       "std      11.375469     0.653614    2822.736876    12.058814\n",
       "min      19.000000     0.000000     250.000000     4.000000\n",
       "25%      27.000000     2.000000    1365.500000    12.000000\n",
       "50%      33.000000     2.000000    2319.500000    18.000000\n",
       "75%      42.000000     2.000000    3972.250000    24.000000\n",
       "max      75.000000     3.000000   18424.000000    72.000000"
      ]
     },
     "execution_count": 4,
     "metadata": {},
     "output_type": "execute_result"
    }
   ],
   "source": [
    "data.describe()"
   ]
  },
  {
   "cell_type": "markdown",
   "id": "c1bb172b",
   "metadata": {},
   "source": [
    "- The age range is from 19 to 75 years\n",
    "\n",
    "- The range of credit is from 250 to 18424\n",
    "\n",
    "- The average duration rounded up is 21"
   ]
  },
  {
   "cell_type": "markdown",
   "id": "f43276ca",
   "metadata": {},
   "source": [
    "#### Cleaning missing values"
   ]
  },
  {
   "cell_type": "code",
   "execution_count": 5,
   "id": "e2816fa8",
   "metadata": {},
   "outputs": [
    {
     "data": {
      "text/plain": [
       "Age                   0\n",
       "Sex                   0\n",
       "Job                   0\n",
       "Housing               0\n",
       "Saving accounts     183\n",
       "Checking account    394\n",
       "Credit amount         0\n",
       "Duration              0\n",
       "Purpose               0\n",
       "Risk                  0\n",
       "dtype: int64"
      ]
     },
     "execution_count": 5,
     "metadata": {},
     "output_type": "execute_result"
    }
   ],
   "source": [
    "data.isnull().sum()"
   ]
  },
  {
   "cell_type": "code",
   "execution_count": 6,
   "id": "47be84c5",
   "metadata": {},
   "outputs": [
    {
     "name": "stdout",
     "output_type": "stream",
     "text": [
      "Saving accounts [nan 'little' 'quite rich' 'rich' 'moderate']\n",
      "Checking accounts ['little' 'moderate' nan 'rich']\n"
     ]
    }
   ],
   "source": [
    "## Checking the unique values in Saving and Checking account\n",
    "\n",
    "print(\"Saving accounts\", data['Saving accounts'].unique())\n",
    "print(\"Checking accounts\", data['Checking account'].unique())"
   ]
  },
  {
   "cell_type": "markdown",
   "id": "5555f019",
   "metadata": {},
   "source": [
    "By choosing to drop the rows the data will loose about 577 instances, which is more than half rows, to avoid this we will replace the null values with **none**. It is possible that the applicants with null values didn't have savings or checking account at the time of application."
   ]
  },
  {
   "cell_type": "code",
   "execution_count": 7,
   "id": "183d7dee",
   "metadata": {},
   "outputs": [
    {
     "data": {
      "text/plain": [
       "Age                 0\n",
       "Sex                 0\n",
       "Job                 0\n",
       "Housing             0\n",
       "Saving accounts     0\n",
       "Checking account    0\n",
       "Credit amount       0\n",
       "Duration            0\n",
       "Purpose             0\n",
       "Risk                0\n",
       "dtype: int64"
      ]
     },
     "execution_count": 7,
     "metadata": {},
     "output_type": "execute_result"
    }
   ],
   "source": [
    "data['Saving accounts'].fillna('none', inplace = True)\n",
    "data['Checking account'].fillna('none', inplace = True)\n",
    "data.isnull().sum()"
   ]
  },
  {
   "cell_type": "markdown",
   "id": "7ebe5c34",
   "metadata": {},
   "source": [
    "#### Visualizing the data"
   ]
  },
  {
   "cell_type": "code",
   "execution_count": 8,
   "id": "36d78199",
   "metadata": {},
   "outputs": [
    {
     "data": {
      "image/png": "[encoded data removed]",
      "text/plain": [
       "<Figure size 720x432 with 2 Axes>"
      ]
     },
     "metadata": {
      "needs_background": "light"
     },
     "output_type": "display_data"
    }
   ],
   "source": [
    "## Correlation plot\n",
    "\n",
    "plt.figure(figsize=(10,6))\n",
    "sns.heatmap(data.corr(),annot=True)\n",
    "plt.show()"
   ]
  },
  {
   "cell_type": "markdown",
   "id": "6dca7dd1",
   "metadata": {},
   "source": [
    "There is not much significant correlation among numerical columns"
   ]
  },
  {
   "cell_type": "code",
   "execution_count": 9,
   "id": "014ea471",
   "metadata": {},
   "outputs": [
    {
     "data": {
      "image/png": "[encoded data removed]",
      "text/plain": [
       "<Figure size 1008x864 with 3 Axes>"
      ]
     },
     "metadata": {
      "needs_background": "light"
     },
     "output_type": "display_data"
    }
   ],
   "source": [
    "## Visualizing numerical columns using histograms\n",
    "\n",
    "plt.figure(figsize = (14,12))\n",
    "\n",
    "plt.subplot(221)\n",
    "ax1 = sns.histplot(data = data, x = 'Age', hue = 'Risk', multiple = 'stack', palette = 'tab10', kde = True)\n",
    "ax1.set_title('Age Distribution', fontsize=20)\n",
    "\n",
    "plt.subplot(222)\n",
    "ax2 = sns.histplot(data= data, x = 'Credit amount', hue = 'Risk', multiple = 'stack', palette = 'rocket', kde = True)\n",
    "ax2.set_title('Credit Amount Distribution', fontsize = 20)\n",
    "\n",
    "plt.subplot(212)\n",
    "ax3 = sns.histplot(data = data, x= \"Duration\", multiple = 'stack', palette = 'hls', kde = True, bins=10)\n",
    "ax3.set_title(\"Duration Distribution\", fontsize=20)\n",
    "\n",
    "plt.show()"
   ]
  },
  {
   "cell_type": "markdown",
   "id": "57b05e01",
   "metadata": {},
   "source": [
    "- All graphs have a positive skew indicating that the mean is greater than the median\n",
    "\n",
    "- Applicants between the ages of 20 to 30 are more likely to apply for a loan\n",
    "\n",
    "- Applicants are less likely to apply for a high credit loan\n",
    "\n",
    "- More loans have been paid off around 20 months after being issued\n",
    "\n",
    "- The bank is more likely to receive applicants between the ages of 20 and 30 and request loans between 250 and 2500 DM"
   ]
  },
  {
   "cell_type": "code",
   "execution_count": 10,
   "id": "5449b6e8",
   "metadata": {},
   "outputs": [
    {
     "data": {
      "image/png": "[encoded data removed]",
      "text/plain": [
       "<Figure size 1008x864 with 1 Axes>"
      ]
     },
     "metadata": {
      "needs_background": "light"
     },
     "output_type": "display_data"
    }
   ],
   "source": [
    "plt.figure(figsize=(14, 12))\n",
    "\n",
    "plt.subplot(221)\n",
    "sns.set_style(\"whitegrid\")\n",
    "\n",
    "ax1 = sns.countplot(data=data, x='Sex', hue='Risk', palette='tab10')\n",
    "ax1.set_title(\"Gender Count\", fontsize=20)\n",
    "ax1.set_xlabel(\"\")\n",
    "\n",
    "plt.show()\n"
   ]
  },
  {
   "cell_type": "markdown",
   "id": "f532cd09",
   "metadata": {},
   "source": [
    "- About 2/5 of male applicants and 1/3 of female applicants are classified as bad"
   ]
  },
  {
   "cell_type": "code",
   "execution_count": 11,
   "id": "b65c185d",
   "metadata": {},
   "outputs": [
    {
     "data": {
      "image/png": "[encoded data removed]",
      "text/plain": [
       "<Figure size 864x720 with 1 Axes>"
      ]
     },
     "metadata": {},
     "output_type": "display_data"
    }
   ],
   "source": [
    "plt.figure(figsize = (12,10))\n",
    "\n",
    "sns.set_style(\"whitegrid\")\n",
    "\n",
    "ax1 = sns.barplot(data=data, x=\"Purpose\", y = \"Credit amount\", palette=\"husl\", hue = \"Risk\", ci = None)\n",
    "ax1.set_xticklabels(ax1.get_xticklabels(), fontsize = 12)\n",
    "ax1.set_xlabel(\"\")\n",
    "ax1.set_ylabel(\"Credit Amount\", fontsize = 12, fontdict={'weight': 'bold'})\n",
    "ax1.set_title(\"Purposes Count\", fontsize=20)\n",
    "\n",
    "plt.show()"
   ]
  },
  {
   "cell_type": "markdown",
   "id": "688ff82d",
   "metadata": {},
   "source": [
    "- A large portion of applicants requested loans for vacation/others, car and business\n"
   ]
  },
  {
   "cell_type": "markdown",
   "id": "50b7c0c4",
   "metadata": {},
   "source": [
    "### Applying log transformation\n",
    "\n",
    "We saw the above histograms for Age, Credit Amount and Duration are skewed, we will apply the log transformation to normalize these columns."
   ]
  },
  {
   "cell_type": "code",
   "execution_count": 12,
   "id": "70abe645",
   "metadata": {},
   "outputs": [
    {
     "data": {
      "text/html": [
       "<div>\n",
       "<style scoped>\n",
       "    .dataframe tbody tr th:only-of-type {\n",
       "        vertical-align: middle;\n",
       "    }\n",
       "\n",
       "    .dataframe tbody tr th {\n",
       "        vertical-align: top;\n",
       "    }\n",
       "\n",
       "    .dataframe thead th {\n",
       "        text-align: right;\n",
       "    }\n",
       "</style>\n",
       "<table border=\"1\" class=\"dataframe\">\n",
       "  <thead>\n",
       "    <tr style=\"text-align: right;\">\n",
       "      <th></th>\n",
       "      <th>Age</th>\n",
       "      <th>Sex</th>\n",
       "      <th>Job</th>\n",
       "      <th>Housing</th>\n",
       "      <th>Saving accounts</th>\n",
       "      <th>Checking account</th>\n",
       "      <th>Credit amount</th>\n",
       "      <th>Duration</th>\n",
       "      <th>Purpose</th>\n",
       "      <th>Risk</th>\n",
       "      <th>Age_norm</th>\n",
       "      <th>Credit amount_norm</th>\n",
       "      <th>Duration_norm</th>\n",
       "    </tr>\n",
       "  </thead>\n",
       "  <tbody>\n",
       "    <tr>\n",
       "      <th>0</th>\n",
       "      <td>67</td>\n",
       "      <td>male</td>\n",
       "      <td>2</td>\n",
       "      <td>own</td>\n",
       "      <td>none</td>\n",
       "      <td>little</td>\n",
       "      <td>1169</td>\n",
       "      <td>6</td>\n",
       "      <td>radio/TV</td>\n",
       "      <td>good</td>\n",
       "      <td>4.204693</td>\n",
       "      <td>7.063904</td>\n",
       "      <td>1.791759</td>\n",
       "    </tr>\n",
       "    <tr>\n",
       "      <th>1</th>\n",
       "      <td>22</td>\n",
       "      <td>female</td>\n",
       "      <td>2</td>\n",
       "      <td>own</td>\n",
       "      <td>little</td>\n",
       "      <td>moderate</td>\n",
       "      <td>5951</td>\n",
       "      <td>48</td>\n",
       "      <td>radio/TV</td>\n",
       "      <td>bad</td>\n",
       "      <td>3.091042</td>\n",
       "      <td>8.691315</td>\n",
       "      <td>3.871201</td>\n",
       "    </tr>\n",
       "    <tr>\n",
       "      <th>2</th>\n",
       "      <td>49</td>\n",
       "      <td>male</td>\n",
       "      <td>1</td>\n",
       "      <td>own</td>\n",
       "      <td>little</td>\n",
       "      <td>none</td>\n",
       "      <td>2096</td>\n",
       "      <td>12</td>\n",
       "      <td>education</td>\n",
       "      <td>good</td>\n",
       "      <td>3.891820</td>\n",
       "      <td>7.647786</td>\n",
       "      <td>2.484907</td>\n",
       "    </tr>\n",
       "    <tr>\n",
       "      <th>3</th>\n",
       "      <td>45</td>\n",
       "      <td>male</td>\n",
       "      <td>2</td>\n",
       "      <td>free</td>\n",
       "      <td>little</td>\n",
       "      <td>little</td>\n",
       "      <td>7882</td>\n",
       "      <td>42</td>\n",
       "      <td>furniture/equipment</td>\n",
       "      <td>good</td>\n",
       "      <td>3.806662</td>\n",
       "      <td>8.972337</td>\n",
       "      <td>3.737670</td>\n",
       "    </tr>\n",
       "    <tr>\n",
       "      <th>4</th>\n",
       "      <td>53</td>\n",
       "      <td>male</td>\n",
       "      <td>2</td>\n",
       "      <td>free</td>\n",
       "      <td>little</td>\n",
       "      <td>little</td>\n",
       "      <td>4870</td>\n",
       "      <td>24</td>\n",
       "      <td>car</td>\n",
       "      <td>bad</td>\n",
       "      <td>3.970292</td>\n",
       "      <td>8.490849</td>\n",
       "      <td>3.178054</td>\n",
       "    </tr>\n",
       "  </tbody>\n",
       "</table>\n",
       "</div>"
      ],
      "text/plain": [
       "   Age     Sex  Job Housing Saving accounts Checking account  Credit amount  \\\n",
       "0   67    male    2     own            none           little           1169   \n",
       "1   22  female    2     own          little         moderate           5951   \n",
       "2   49    male    1     own          little             none           2096   \n",
       "3   45    male    2    free          little           little           7882   \n",
       "4   53    male    2    free          little           little           4870   \n",
       "\n",
       "   Duration              Purpose  Risk  Age_norm  Credit amount_norm  \\\n",
       "0         6             radio/TV  good  4.204693            7.063904   \n",
       "1        48             radio/TV   bad  3.091042            8.691315   \n",
       "2        12            education  good  3.891820            7.647786   \n",
       "3        42  furniture/equipment  good  3.806662            8.972337   \n",
       "4        24                  car   bad  3.970292            8.490849   \n",
       "\n",
       "   Duration_norm  \n",
       "0       1.791759  \n",
       "1       3.871201  \n",
       "2       2.484907  \n",
       "3       3.737670  \n",
       "4       3.178054  "
      ]
     },
     "execution_count": 12,
     "metadata": {},
     "output_type": "execute_result"
    }
   ],
   "source": [
    "data['Age_norm'] = np.log(data['Age'])\n",
    "data['Credit amount_norm'] = np.log(data['Credit amount'])\n",
    "data['Duration_norm'] = np.log(data['Duration'])\n",
    "\n",
    "data.head()"
   ]
  },
  {
   "cell_type": "code",
   "execution_count": 13,
   "id": "0d564541",
   "metadata": {},
   "outputs": [
    {
     "data": {
      "image/png": "[encoded data removed]",
      "text/plain": [
       "<Figure size 1008x864 with 3 Axes>"
      ]
     },
     "metadata": {},
     "output_type": "display_data"
    }
   ],
   "source": [
    "### Plotting histograms to verify the columns after log transformation are normalized\n",
    "\n",
    "plt.figure(figsize = (14,12))\n",
    "\n",
    "plt.subplot(221)\n",
    "ax1 = sns.histplot(data = data, x = 'Age_norm', palette = 'tab10', kde = True)\n",
    "ax1.set_title('Age Distribution', fontsize=20)\n",
    "\n",
    "plt.subplot(222)\n",
    "ax2 = sns.histplot(data= data, x = 'Credit amount_norm', palette = 'rocket', kde = True)\n",
    "ax2.set_title('Credit Amount Distribution', fontsize = 20)\n",
    "\n",
    "plt.subplot(212)\n",
    "ax3 = sns.histplot(data = data, x= \"Duration_norm\", kde = True, bins=10)\n",
    "ax3.set_title(\"Duration Distribution\", fontsize=20)\n",
    "\n",
    "plt.show()"
   ]
  },
  {
   "cell_type": "markdown",
   "id": "f5e12122",
   "metadata": {},
   "source": [
    "- Looking at histograms we can say that the numerical columns now look more normalized."
   ]
  },
  {
   "cell_type": "markdown",
   "id": "bbc08cc3",
   "metadata": {},
   "source": [
    "### Feature Scaling"
   ]
  },
  {
   "cell_type": "code",
   "execution_count": 14,
   "id": "66f5da25",
   "metadata": {},
   "outputs": [
    {
     "data": {
      "text/html": [
       "<div>\n",
       "<style scoped>\n",
       "    .dataframe tbody tr th:only-of-type {\n",
       "        vertical-align: middle;\n",
       "    }\n",
       "\n",
       "    .dataframe tbody tr th {\n",
       "        vertical-align: top;\n",
       "    }\n",
       "\n",
       "    .dataframe thead th {\n",
       "        text-align: right;\n",
       "    }\n",
       "</style>\n",
       "<table border=\"1\" class=\"dataframe\">\n",
       "  <thead>\n",
       "    <tr style=\"text-align: right;\">\n",
       "      <th></th>\n",
       "      <th>Sex</th>\n",
       "      <th>Job</th>\n",
       "      <th>Housing</th>\n",
       "      <th>Saving accounts</th>\n",
       "      <th>Checking account</th>\n",
       "      <th>Purpose</th>\n",
       "      <th>Risk</th>\n",
       "      <th>Age_norm</th>\n",
       "      <th>Credit amount_norm</th>\n",
       "      <th>Duration_norm</th>\n",
       "    </tr>\n",
       "  </thead>\n",
       "  <tbody>\n",
       "    <tr>\n",
       "      <th>0</th>\n",
       "      <td>male</td>\n",
       "      <td>2</td>\n",
       "      <td>own</td>\n",
       "      <td>none</td>\n",
       "      <td>little</td>\n",
       "      <td>radio/TV</td>\n",
       "      <td>good</td>\n",
       "      <td>4.204693</td>\n",
       "      <td>7.063904</td>\n",
       "      <td>1.791759</td>\n",
       "    </tr>\n",
       "    <tr>\n",
       "      <th>1</th>\n",
       "      <td>female</td>\n",
       "      <td>2</td>\n",
       "      <td>own</td>\n",
       "      <td>little</td>\n",
       "      <td>moderate</td>\n",
       "      <td>radio/TV</td>\n",
       "      <td>bad</td>\n",
       "      <td>3.091042</td>\n",
       "      <td>8.691315</td>\n",
       "      <td>3.871201</td>\n",
       "    </tr>\n",
       "    <tr>\n",
       "      <th>2</th>\n",
       "      <td>male</td>\n",
       "      <td>1</td>\n",
       "      <td>own</td>\n",
       "      <td>little</td>\n",
       "      <td>none</td>\n",
       "      <td>education</td>\n",
       "      <td>good</td>\n",
       "      <td>3.891820</td>\n",
       "      <td>7.647786</td>\n",
       "      <td>2.484907</td>\n",
       "    </tr>\n",
       "    <tr>\n",
       "      <th>3</th>\n",
       "      <td>male</td>\n",
       "      <td>2</td>\n",
       "      <td>free</td>\n",
       "      <td>little</td>\n",
       "      <td>little</td>\n",
       "      <td>furniture/equipment</td>\n",
       "      <td>good</td>\n",
       "      <td>3.806662</td>\n",
       "      <td>8.972337</td>\n",
       "      <td>3.737670</td>\n",
       "    </tr>\n",
       "    <tr>\n",
       "      <th>4</th>\n",
       "      <td>male</td>\n",
       "      <td>2</td>\n",
       "      <td>free</td>\n",
       "      <td>little</td>\n",
       "      <td>little</td>\n",
       "      <td>car</td>\n",
       "      <td>bad</td>\n",
       "      <td>3.970292</td>\n",
       "      <td>8.490849</td>\n",
       "      <td>3.178054</td>\n",
       "    </tr>\n",
       "  </tbody>\n",
       "</table>\n",
       "</div>"
      ],
      "text/plain": [
       "      Sex  Job Housing Saving accounts Checking account              Purpose  \\\n",
       "0    male    2     own            none           little             radio/TV   \n",
       "1  female    2     own          little         moderate             radio/TV   \n",
       "2    male    1     own          little             none            education   \n",
       "3    male    2    free          little           little  furniture/equipment   \n",
       "4    male    2    free          little           little                  car   \n",
       "\n",
       "   Risk  Age_norm  Credit amount_norm  Duration_norm  \n",
       "0  good  4.204693            7.063904       1.791759  \n",
       "1   bad  3.091042            8.691315       3.871201  \n",
       "2  good  3.891820            7.647786       2.484907  \n",
       "3  good  3.806662            8.972337       3.737670  \n",
       "4   bad  3.970292            8.490849       3.178054  "
      ]
     },
     "execution_count": 14,
     "metadata": {},
     "output_type": "execute_result"
    }
   ],
   "source": [
    "df = data.drop(['Age', 'Credit amount', 'Duration'], axis = 1)\n",
    "df.head()"
   ]
  },
  {
   "cell_type": "code",
   "execution_count": 15,
   "id": "8b352d95",
   "metadata": {},
   "outputs": [
    {
     "data": {
      "text/html": [
       "<div>\n",
       "<style scoped>\n",
       "    .dataframe tbody tr th:only-of-type {\n",
       "        vertical-align: middle;\n",
       "    }\n",
       "\n",
       "    .dataframe tbody tr th {\n",
       "        vertical-align: top;\n",
       "    }\n",
       "\n",
       "    .dataframe thead th {\n",
       "        text-align: right;\n",
       "    }\n",
       "</style>\n",
       "<table border=\"1\" class=\"dataframe\">\n",
       "  <thead>\n",
       "    <tr style=\"text-align: right;\">\n",
       "      <th></th>\n",
       "      <th>Sex</th>\n",
       "      <th>Job</th>\n",
       "      <th>Housing</th>\n",
       "      <th>Saving accounts</th>\n",
       "      <th>Checking account</th>\n",
       "      <th>Purpose</th>\n",
       "      <th>Risk</th>\n",
       "      <th>Age_norm</th>\n",
       "      <th>Credit amount_norm</th>\n",
       "      <th>Duration_norm</th>\n",
       "    </tr>\n",
       "  </thead>\n",
       "  <tbody>\n",
       "    <tr>\n",
       "      <th>0</th>\n",
       "      <td>male</td>\n",
       "      <td>2</td>\n",
       "      <td>own</td>\n",
       "      <td>none</td>\n",
       "      <td>little</td>\n",
       "      <td>radio/TV</td>\n",
       "      <td>good</td>\n",
       "      <td>2.271006</td>\n",
       "      <td>-0.933901</td>\n",
       "      <td>-1.864869</td>\n",
       "    </tr>\n",
       "    <tr>\n",
       "      <th>1</th>\n",
       "      <td>female</td>\n",
       "      <td>2</td>\n",
       "      <td>own</td>\n",
       "      <td>little</td>\n",
       "      <td>moderate</td>\n",
       "      <td>radio/TV</td>\n",
       "      <td>bad</td>\n",
       "      <td>-1.446152</td>\n",
       "      <td>1.163046</td>\n",
       "      <td>1.708369</td>\n",
       "    </tr>\n",
       "    <tr>\n",
       "      <th>2</th>\n",
       "      <td>male</td>\n",
       "      <td>1</td>\n",
       "      <td>own</td>\n",
       "      <td>little</td>\n",
       "      <td>none</td>\n",
       "      <td>education</td>\n",
       "      <td>good</td>\n",
       "      <td>1.226696</td>\n",
       "      <td>-0.181559</td>\n",
       "      <td>-0.673790</td>\n",
       "    </tr>\n",
       "    <tr>\n",
       "      <th>3</th>\n",
       "      <td>male</td>\n",
       "      <td>2</td>\n",
       "      <td>free</td>\n",
       "      <td>little</td>\n",
       "      <td>little</td>\n",
       "      <td>furniture/equipment</td>\n",
       "      <td>good</td>\n",
       "      <td>0.942455</td>\n",
       "      <td>1.525148</td>\n",
       "      <td>1.478913</td>\n",
       "    </tr>\n",
       "    <tr>\n",
       "      <th>4</th>\n",
       "      <td>male</td>\n",
       "      <td>2</td>\n",
       "      <td>free</td>\n",
       "      <td>little</td>\n",
       "      <td>little</td>\n",
       "      <td>car</td>\n",
       "      <td>bad</td>\n",
       "      <td>1.488620</td>\n",
       "      <td>0.904743</td>\n",
       "      <td>0.517289</td>\n",
       "    </tr>\n",
       "  </tbody>\n",
       "</table>\n",
       "</div>"
      ],
      "text/plain": [
       "      Sex  Job Housing Saving accounts Checking account              Purpose  \\\n",
       "0    male    2     own            none           little             radio/TV   \n",
       "1  female    2     own          little         moderate             radio/TV   \n",
       "2    male    1     own          little             none            education   \n",
       "3    male    2    free          little           little  furniture/equipment   \n",
       "4    male    2    free          little           little                  car   \n",
       "\n",
       "   Risk  Age_norm  Credit amount_norm  Duration_norm  \n",
       "0  good  2.271006           -0.933901      -1.864869  \n",
       "1   bad -1.446152            1.163046       1.708369  \n",
       "2  good  1.226696           -0.181559      -0.673790  \n",
       "3  good  0.942455            1.525148       1.478913  \n",
       "4   bad  1.488620            0.904743       0.517289  "
      ]
     },
     "execution_count": 15,
     "metadata": {},
     "output_type": "execute_result"
    }
   ],
   "source": [
    "from sklearn.preprocessing import StandardScaler\n",
    "\n",
    "num_cols = ['Age_norm', 'Credit amount_norm', 'Duration_norm']\n",
    "df[num_cols] = StandardScaler().fit_transform(df[num_cols])\n",
    "df.head()"
   ]
  },
  {
   "cell_type": "code",
   "execution_count": 16,
   "id": "5b9012ec",
   "metadata": {},
   "outputs": [
    {
     "data": {
      "text/html": [
       "<div>\n",
       "<style scoped>\n",
       "    .dataframe tbody tr th:only-of-type {\n",
       "        vertical-align: middle;\n",
       "    }\n",
       "\n",
       "    .dataframe tbody tr th {\n",
       "        vertical-align: top;\n",
       "    }\n",
       "\n",
       "    .dataframe thead th {\n",
       "        text-align: right;\n",
       "    }\n",
       "</style>\n",
       "<table border=\"1\" class=\"dataframe\">\n",
       "  <thead>\n",
       "    <tr style=\"text-align: right;\">\n",
       "      <th></th>\n",
       "      <th>Job</th>\n",
       "      <th>Age_norm</th>\n",
       "      <th>Credit amount_norm</th>\n",
       "      <th>Duration_norm</th>\n",
       "    </tr>\n",
       "  </thead>\n",
       "  <tbody>\n",
       "    <tr>\n",
       "      <th>count</th>\n",
       "      <td>1000.000000</td>\n",
       "      <td>1.000000e+03</td>\n",
       "      <td>1.000000e+03</td>\n",
       "      <td>1.000000e+03</td>\n",
       "    </tr>\n",
       "    <tr>\n",
       "      <th>mean</th>\n",
       "      <td>1.904000</td>\n",
       "      <td>1.106226e-15</td>\n",
       "      <td>2.892131e-16</td>\n",
       "      <td>-3.730349e-17</td>\n",
       "    </tr>\n",
       "    <tr>\n",
       "      <th>std</th>\n",
       "      <td>0.653614</td>\n",
       "      <td>1.000500e+00</td>\n",
       "      <td>1.000500e+00</td>\n",
       "      <td>1.000500e+00</td>\n",
       "    </tr>\n",
       "    <tr>\n",
       "      <th>min</th>\n",
       "      <td>0.000000</td>\n",
       "      <td>-1.935487e+00</td>\n",
       "      <td>-2.921366e+00</td>\n",
       "      <td>-2.561606e+00</td>\n",
       "    </tr>\n",
       "    <tr>\n",
       "      <th>25%</th>\n",
       "      <td>2.000000</td>\n",
       "      <td>-7.625864e-01</td>\n",
       "      <td>-7.337018e-01</td>\n",
       "      <td>-6.737898e-01</td>\n",
       "    </tr>\n",
       "    <tr>\n",
       "      <th>50%</th>\n",
       "      <td>2.000000</td>\n",
       "      <td>-9.278474e-02</td>\n",
       "      <td>-5.100511e-02</td>\n",
       "      <td>2.294689e-02</td>\n",
       "    </tr>\n",
       "    <tr>\n",
       "      <th>75%</th>\n",
       "      <td>2.000000</td>\n",
       "      <td>7.121696e-01</td>\n",
       "      <td>6.421928e-01</td>\n",
       "      <td>5.172894e-01</td>\n",
       "    </tr>\n",
       "    <tr>\n",
       "      <th>max</th>\n",
       "      <td>3.000000</td>\n",
       "      <td>2.647496e+00</td>\n",
       "      <td>2.619193e+00</td>\n",
       "      <td>2.405105e+00</td>\n",
       "    </tr>\n",
       "  </tbody>\n",
       "</table>\n",
       "</div>"
      ],
      "text/plain": [
       "               Job      Age_norm  Credit amount_norm  Duration_norm\n",
       "count  1000.000000  1.000000e+03        1.000000e+03   1.000000e+03\n",
       "mean      1.904000  1.106226e-15        2.892131e-16  -3.730349e-17\n",
       "std       0.653614  1.000500e+00        1.000500e+00   1.000500e+00\n",
       "min       0.000000 -1.935487e+00       -2.921366e+00  -2.561606e+00\n",
       "25%       2.000000 -7.625864e-01       -7.337018e-01  -6.737898e-01\n",
       "50%       2.000000 -9.278474e-02       -5.100511e-02   2.294689e-02\n",
       "75%       2.000000  7.121696e-01        6.421928e-01   5.172894e-01\n",
       "max       3.000000  2.647496e+00        2.619193e+00   2.405105e+00"
      ]
     },
     "execution_count": 16,
     "metadata": {},
     "output_type": "execute_result"
    }
   ],
   "source": [
    "df.describe()"
   ]
  },
  {
   "cell_type": "markdown",
   "id": "a15c962a",
   "metadata": {},
   "source": [
    "After applying StandardScaler we can see that the mean of numerical columns `Age_norm`, `Credit amount_norm` and `Duration_norm` has become almost 0 and standard deviation is 1."
   ]
  },
  {
   "cell_type": "markdown",
   "id": "233b5e1b",
   "metadata": {},
   "source": [
    "### Apply one-hot encoding to categorical features"
   ]
  },
  {
   "cell_type": "code",
   "execution_count": 17,
   "id": "5ee13597",
   "metadata": {},
   "outputs": [],
   "source": [
    "\n",
    "#cat_cols = ['Sex', 'Job', 'Housing', 'Savings accounts', 'Checking account', ]\n",
    "df_encoded = pd.get_dummies(df, drop_first = True)"
   ]
  },
  {
   "cell_type": "code",
   "execution_count": 18,
   "id": "5d7632d5",
   "metadata": {},
   "outputs": [
    {
     "data": {
      "text/html": [
       "<div>\n",
       "<style scoped>\n",
       "    .dataframe tbody tr th:only-of-type {\n",
       "        vertical-align: middle;\n",
       "    }\n",
       "\n",
       "    .dataframe tbody tr th {\n",
       "        vertical-align: top;\n",
       "    }\n",
       "\n",
       "    .dataframe thead th {\n",
       "        text-align: right;\n",
       "    }\n",
       "</style>\n",
       "<table border=\"1\" class=\"dataframe\">\n",
       "  <thead>\n",
       "    <tr style=\"text-align: right;\">\n",
       "      <th></th>\n",
       "      <th>Job</th>\n",
       "      <th>Age_norm</th>\n",
       "      <th>Credit amount_norm</th>\n",
       "      <th>Duration_norm</th>\n",
       "      <th>Sex_male</th>\n",
       "      <th>Housing_own</th>\n",
       "      <th>Housing_rent</th>\n",
       "      <th>Saving accounts_moderate</th>\n",
       "      <th>Saving accounts_none</th>\n",
       "      <th>Saving accounts_quite rich</th>\n",
       "      <th>...</th>\n",
       "      <th>Checking account_none</th>\n",
       "      <th>Checking account_rich</th>\n",
       "      <th>Purpose_car</th>\n",
       "      <th>Purpose_domestic appliances</th>\n",
       "      <th>Purpose_education</th>\n",
       "      <th>Purpose_furniture/equipment</th>\n",
       "      <th>Purpose_radio/TV</th>\n",
       "      <th>Purpose_repairs</th>\n",
       "      <th>Purpose_vacation/others</th>\n",
       "      <th>Risk_good</th>\n",
       "    </tr>\n",
       "  </thead>\n",
       "  <tbody>\n",
       "    <tr>\n",
       "      <th>0</th>\n",
       "      <td>2</td>\n",
       "      <td>2.271006</td>\n",
       "      <td>-0.933901</td>\n",
       "      <td>-1.864869</td>\n",
       "      <td>1</td>\n",
       "      <td>1</td>\n",
       "      <td>0</td>\n",
       "      <td>0</td>\n",
       "      <td>1</td>\n",
       "      <td>0</td>\n",
       "      <td>...</td>\n",
       "      <td>0</td>\n",
       "      <td>0</td>\n",
       "      <td>0</td>\n",
       "      <td>0</td>\n",
       "      <td>0</td>\n",
       "      <td>0</td>\n",
       "      <td>1</td>\n",
       "      <td>0</td>\n",
       "      <td>0</td>\n",
       "      <td>1</td>\n",
       "    </tr>\n",
       "    <tr>\n",
       "      <th>1</th>\n",
       "      <td>2</td>\n",
       "      <td>-1.446152</td>\n",
       "      <td>1.163046</td>\n",
       "      <td>1.708369</td>\n",
       "      <td>0</td>\n",
       "      <td>1</td>\n",
       "      <td>0</td>\n",
       "      <td>0</td>\n",
       "      <td>0</td>\n",
       "      <td>0</td>\n",
       "      <td>...</td>\n",
       "      <td>0</td>\n",
       "      <td>0</td>\n",
       "      <td>0</td>\n",
       "      <td>0</td>\n",
       "      <td>0</td>\n",
       "      <td>0</td>\n",
       "      <td>1</td>\n",
       "      <td>0</td>\n",
       "      <td>0</td>\n",
       "      <td>0</td>\n",
       "    </tr>\n",
       "    <tr>\n",
       "      <th>2</th>\n",
       "      <td>1</td>\n",
       "      <td>1.226696</td>\n",
       "      <td>-0.181559</td>\n",
       "      <td>-0.673790</td>\n",
       "      <td>1</td>\n",
       "      <td>1</td>\n",
       "      <td>0</td>\n",
       "      <td>0</td>\n",
       "      <td>0</td>\n",
       "      <td>0</td>\n",
       "      <td>...</td>\n",
       "      <td>1</td>\n",
       "      <td>0</td>\n",
       "      <td>0</td>\n",
       "      <td>0</td>\n",
       "      <td>1</td>\n",
       "      <td>0</td>\n",
       "      <td>0</td>\n",
       "      <td>0</td>\n",
       "      <td>0</td>\n",
       "      <td>1</td>\n",
       "    </tr>\n",
       "    <tr>\n",
       "      <th>3</th>\n",
       "      <td>2</td>\n",
       "      <td>0.942455</td>\n",
       "      <td>1.525148</td>\n",
       "      <td>1.478913</td>\n",
       "      <td>1</td>\n",
       "      <td>0</td>\n",
       "      <td>0</td>\n",
       "      <td>0</td>\n",
       "      <td>0</td>\n",
       "      <td>0</td>\n",
       "      <td>...</td>\n",
       "      <td>0</td>\n",
       "      <td>0</td>\n",
       "      <td>0</td>\n",
       "      <td>0</td>\n",
       "      <td>0</td>\n",
       "      <td>1</td>\n",
       "      <td>0</td>\n",
       "      <td>0</td>\n",
       "      <td>0</td>\n",
       "      <td>1</td>\n",
       "    </tr>\n",
       "    <tr>\n",
       "      <th>4</th>\n",
       "      <td>2</td>\n",
       "      <td>1.488620</td>\n",
       "      <td>0.904743</td>\n",
       "      <td>0.517289</td>\n",
       "      <td>1</td>\n",
       "      <td>0</td>\n",
       "      <td>0</td>\n",
       "      <td>0</td>\n",
       "      <td>0</td>\n",
       "      <td>0</td>\n",
       "      <td>...</td>\n",
       "      <td>0</td>\n",
       "      <td>0</td>\n",
       "      <td>1</td>\n",
       "      <td>0</td>\n",
       "      <td>0</td>\n",
       "      <td>0</td>\n",
       "      <td>0</td>\n",
       "      <td>0</td>\n",
       "      <td>0</td>\n",
       "      <td>0</td>\n",
       "    </tr>\n",
       "  </tbody>\n",
       "</table>\n",
       "<p>5 rows × 22 columns</p>\n",
       "</div>"
      ],
      "text/plain": [
       "   Job  Age_norm  Credit amount_norm  Duration_norm  Sex_male  Housing_own  \\\n",
       "0    2  2.271006           -0.933901      -1.864869         1            1   \n",
       "1    2 -1.446152            1.163046       1.708369         0            1   \n",
       "2    1  1.226696           -0.181559      -0.673790         1            1   \n",
       "3    2  0.942455            1.525148       1.478913         1            0   \n",
       "4    2  1.488620            0.904743       0.517289         1            0   \n",
       "\n",
       "   Housing_rent  Saving accounts_moderate  Saving accounts_none  \\\n",
       "0             0                         0                     1   \n",
       "1             0                         0                     0   \n",
       "2             0                         0                     0   \n",
       "3             0                         0                     0   \n",
       "4             0                         0                     0   \n",
       "\n",
       "   Saving accounts_quite rich  ...  Checking account_none  \\\n",
       "0                           0  ...                      0   \n",
       "1                           0  ...                      0   \n",
       "2                           0  ...                      1   \n",
       "3                           0  ...                      0   \n",
       "4                           0  ...                      0   \n",
       "\n",
       "   Checking account_rich  Purpose_car  Purpose_domestic appliances  \\\n",
       "0                      0            0                            0   \n",
       "1                      0            0                            0   \n",
       "2                      0            0                            0   \n",
       "3                      0            0                            0   \n",
       "4                      0            1                            0   \n",
       "\n",
       "   Purpose_education  Purpose_furniture/equipment  Purpose_radio/TV  \\\n",
       "0                  0                            0                 1   \n",
       "1                  0                            0                 1   \n",
       "2                  1                            0                 0   \n",
       "3                  0                            1                 0   \n",
       "4                  0                            0                 0   \n",
       "\n",
       "   Purpose_repairs  Purpose_vacation/others  Risk_good  \n",
       "0                0                        0          1  \n",
       "1                0                        0          0  \n",
       "2                0                        0          1  \n",
       "3                0                        0          1  \n",
       "4                0                        0          0  \n",
       "\n",
       "[5 rows x 22 columns]"
      ]
     },
     "execution_count": 18,
     "metadata": {},
     "output_type": "execute_result"
    }
   ],
   "source": [
    "df_encoded.head()"
   ]
  },
  {
   "cell_type": "markdown",
   "id": "7395a597",
   "metadata": {},
   "source": [
    "### Plot Elbow graph"
   ]
  },
  {
   "cell_type": "code",
   "execution_count": 19,
   "id": "8e99bcfd",
   "metadata": {},
   "outputs": [
    {
     "data": {
      "image/png": "[encoded data removed]",
      "text/plain": [
       "<Figure size 432x288 with 1 Axes>"
      ]
     },
     "metadata": {},
     "output_type": "display_data"
    }
   ],
   "source": [
    "from sklearn.cluster import KMeans\n",
    "\n",
    "## Using Elbow method to find the optimal number of clusters\n",
    "\n",
    "#initialize kmeans parameters\n",
    "kmeans_kwargs = {\n",
    "\"init\": \"random\",\n",
    "\"n_init\": 10,\n",
    "\"random_state\": 1,\n",
    "}\n",
    "\n",
    "#create list to hold SSE values for each k\n",
    "sse = []\n",
    "for k in range(2, 15):\n",
    "    kmeans = KMeans(n_clusters=k, **kmeans_kwargs)\n",
    "    kmeans.fit(df_encoded)\n",
    "    sse.append(kmeans.inertia_)\n",
    "\n",
    "#visualize results\n",
    "plt.plot(range(2, 15), sse)\n",
    "plt.xticks(range(2, 15))\n",
    "plt.xlabel(\"Number of Clusters\")\n",
    "plt.ylabel(\"SSE\")\n",
    "plt.show()"
   ]
  },
  {
   "cell_type": "markdown",
   "id": "0090a86b",
   "metadata": {},
   "source": [
    "From the elbow graph we can say that there was a sharp bend at 3 for number of clusters. We will take 3 as optimal value for number of clusters for further analysis"
   ]
  },
  {
   "cell_type": "markdown",
   "id": "c4f31ee3",
   "metadata": {},
   "source": [
    "### Implementing KMeans "
   ]
  },
  {
   "cell_type": "code",
   "execution_count": 20,
   "id": "cde825e5",
   "metadata": {},
   "outputs": [
    {
     "data": {
      "text/plain": [
       "KMeans(n_clusters=3, random_state=5)"
      ]
     },
     "execution_count": 20,
     "metadata": {},
     "output_type": "execute_result"
    }
   ],
   "source": [
    "clustering = KMeans(n_clusters=3, random_state=5)\n",
    "\n",
    "clustering.fit(df_encoded)"
   ]
  },
  {
   "cell_type": "markdown",
   "id": "422d9876",
   "metadata": {},
   "source": [
    "### Visualizing the clusters through PCA"
   ]
  },
  {
   "cell_type": "code",
   "execution_count": 21,
   "id": "6c054bab",
   "metadata": {},
   "outputs": [
    {
     "data": {
      "image/png": "[encoded data removed]",
      "text/plain": [
       "<Figure size 432x288 with 1 Axes>"
      ]
     },
     "metadata": {},
     "output_type": "display_data"
    }
   ],
   "source": [
    "from sklearn.decomposition import PCA\n",
    "\n",
    "### Covert the data into 2D\n",
    "\n",
    "pca_2 = PCA(2)\n",
    "plot_columns = pca_2.fit_transform(df_encoded)\n",
    "\n",
    "color_theme = np.array(['darkgray','lightsalmon', 'powderblue'])\n",
    "plt.scatter(x=plot_columns[:,0], y=plot_columns[:,1], c= color_theme[clustering.labels_])\n",
    "plt.xlabel('PCA-1')\n",
    "plt.ylabel('PCA-2')\n",
    "plt.title('Scatterplot of Principal Components for 3 Clusters')\n",
    "plt.show()"
   ]
  },
  {
   "cell_type": "markdown",
   "id": "a2b4190a",
   "metadata": {},
   "source": [
    "We can clearly see the distinguished clusters along the two PCA components"
   ]
  },
  {
   "cell_type": "markdown",
   "id": "0e843b5f",
   "metadata": {},
   "source": [
    "### Implementing Naive-Bayes classifier"
   ]
  },
  {
   "cell_type": "code",
   "execution_count": 22,
   "id": "0eba6c4d",
   "metadata": {},
   "outputs": [],
   "source": [
    "from sklearn.model_selection import train_test_split\n",
    "from sklearn.model_selection import cross_val_score\n",
    "from sklearn.metrics import confusion_matrix, classification_report\n",
    "\n",
    "from sklearn.naive_bayes import GaussianNB"
   ]
  },
  {
   "cell_type": "code",
   "execution_count": 23,
   "id": "14cba812",
   "metadata": {},
   "outputs": [
    {
     "data": {
      "text/plain": [
       "(1000, 22)"
      ]
     },
     "execution_count": 23,
     "metadata": {},
     "output_type": "execute_result"
    }
   ],
   "source": [
    "df_encoded.shape"
   ]
  },
  {
   "cell_type": "code",
   "execution_count": 24,
   "id": "653fe7fd",
   "metadata": {},
   "outputs": [],
   "source": [
    "features = df_encoded.iloc[:,0:21]\n",
    "target = df_encoded.iloc[:,21]"
   ]
  },
  {
   "cell_type": "code",
   "execution_count": 25,
   "id": "ec2dc246",
   "metadata": {},
   "outputs": [],
   "source": [
    "X_train, X_test, y_train, y_test = train_test_split(features, target, test_size=.2, random_state=17)"
   ]
  },
  {
   "cell_type": "code",
   "execution_count": 26,
   "id": "c12e9d37",
   "metadata": {},
   "outputs": [
    {
     "name": "stdout",
     "output_type": "stream",
     "text": [
      "GaussianNB()\n",
      "              precision    recall  f1-score   support\n",
      "\n",
      "           0       0.47      0.49      0.48        59\n",
      "           1       0.78      0.77      0.77       141\n",
      "\n",
      "    accuracy                           0.69       200\n",
      "   macro avg       0.63      0.63      0.63       200\n",
      "weighted avg       0.69      0.69      0.69       200\n",
      "\n"
     ]
    }
   ],
   "source": [
    "GausNB = GaussianNB()\n",
    "GausNB.fit(X_train, y_train)\n",
    "print(GausNB)\n",
    "\n",
    "\n",
    "y_pred = GausNB.predict(X_test)\n",
    "\n",
    "print(classification_report(y_test, y_pred))"
   ]
  },
  {
   "cell_type": "markdown",
   "id": "47231d26",
   "metadata": {},
   "source": [
    "- We can see that the accuracy is only 0.69 for Naive Bayes classifier, which can be improved by trying other training algorithms "
   ]
  },
  {
   "cell_type": "markdown",
   "id": "77dcf2fa",
   "metadata": {},
   "source": [
    "#### Using KFold CV to objectively measure the accuracy of the classifier."
   ]
  },
  {
   "cell_type": "code",
   "execution_count": 30,
   "id": "d3ef2a6d",
   "metadata": {},
   "outputs": [
    {
     "name": "stdout",
     "output_type": "stream",
     "text": [
      "[0.6375  0.70625 0.675   0.6125  0.73125]\n",
      "0.6725\n"
     ]
    }
   ],
   "source": [
    "scores = cross_val_score(GausNB, X_train, y_train, cv=5, scoring = 'accuracy')\n",
    "\n",
    "# Print the accuracy of each fold:\n",
    "print(scores)\n",
    "\n",
    "# Print the mean accuracy of all 5 folds\n",
    "print(scores.mean())"
   ]
  },
  {
   "cell_type": "markdown",
   "id": "c63072fe",
   "metadata": {},
   "source": [
    "- Using the mean cross-validation, we can conclude that we expect the model to be around 67.25% accurate on average.\n",
    "\n",
    "- Our original model accuracy is 0.69, but the mean cross-validation accuracy is 0.6725. So, the 5-fold cross-validation accuracy does not result in performance improvement for this model.\n",
    "\n"
   ]
  }
 ],
 "metadata": {
  "kernelspec": {
   "display_name": "Python 3",
   "language": "python",
   "name": "python3"
  },
  "language_info": {
   "codemirror_mode": {
    "name": "ipython",
    "version": 3
   },
   "file_extension": ".py",
   "mimetype": "text/x-python",
   "name": "python",
   "nbconvert_exporter": "python",
   "pygments_lexer": "ipython3",
   "version": "3.8.8"
  }
 },
 "nbformat": 4,
 "nbformat_minor": 5
}
